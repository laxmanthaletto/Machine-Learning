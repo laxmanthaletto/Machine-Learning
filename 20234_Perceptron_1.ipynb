{
  "cells": [
    {
      "attachments": {},
      "cell_type": "markdown",
      "metadata": {},
      "source": [
        "### 19CSE305: Machine Learning\n",
        "\n",
        "Name: Laxman K R\n",
        "\n",
        "Roll: CB.EN.U4CSE20234"
      ]
    },
    {
      "cell_type": "markdown",
      "metadata": {
        "id": "ZPSs2m7cdDTB"
      },
      "source": [
        "**Binary Classification using Perceptron**"
      ]
    },
    {
      "cell_type": "code",
      "execution_count": 1,
      "metadata": {
        "id": "mb3nQpApdAzN"
      },
      "outputs": [],
      "source": [
        "## Import required libraries\n",
        "\n",
        "import pandas as pd\n",
        "import numpy as np \n",
        "import matplotlib.pyplot as plt\n",
        "import sklearn\n",
        "\n",
        "from sklearn.neural_network import MLPClassifier\n",
        "from sklearn.model_selection import train_test_split"
      ]
    },
    {
      "cell_type": "code",
      "execution_count": 2,
      "metadata": {
        "id": "ZTh8mfVgCi7A"
      },
      "outputs": [
        {
          "name": "stdout",
          "output_type": "stream",
          "text": [
            "(214, 10)\n"
          ]
        },
        {
          "data": {
            "text/html": [
              "<div>\n",
              "<style scoped>\n",
              "    .dataframe tbody tr th:only-of-type {\n",
              "        vertical-align: middle;\n",
              "    }\n",
              "\n",
              "    .dataframe tbody tr th {\n",
              "        vertical-align: top;\n",
              "    }\n",
              "\n",
              "    .dataframe thead th {\n",
              "        text-align: right;\n",
              "    }\n",
              "</style>\n",
              "<table border=\"1\" class=\"dataframe\">\n",
              "  <thead>\n",
              "    <tr style=\"text-align: right;\">\n",
              "      <th></th>\n",
              "      <th>count</th>\n",
              "      <th>mean</th>\n",
              "      <th>std</th>\n",
              "      <th>min</th>\n",
              "      <th>25%</th>\n",
              "      <th>50%</th>\n",
              "      <th>75%</th>\n",
              "      <th>max</th>\n",
              "    </tr>\n",
              "  </thead>\n",
              "  <tbody>\n",
              "    <tr>\n",
              "      <th>RI</th>\n",
              "      <td>214.0</td>\n",
              "      <td>1.518365</td>\n",
              "      <td>0.003037</td>\n",
              "      <td>1.51115</td>\n",
              "      <td>1.516522</td>\n",
              "      <td>1.51768</td>\n",
              "      <td>1.519157</td>\n",
              "      <td>1.53393</td>\n",
              "    </tr>\n",
              "    <tr>\n",
              "      <th>Na</th>\n",
              "      <td>214.0</td>\n",
              "      <td>13.407850</td>\n",
              "      <td>0.816604</td>\n",
              "      <td>10.73000</td>\n",
              "      <td>12.907500</td>\n",
              "      <td>13.30000</td>\n",
              "      <td>13.825000</td>\n",
              "      <td>17.38000</td>\n",
              "    </tr>\n",
              "    <tr>\n",
              "      <th>Mg</th>\n",
              "      <td>214.0</td>\n",
              "      <td>2.684533</td>\n",
              "      <td>1.442408</td>\n",
              "      <td>0.00000</td>\n",
              "      <td>2.115000</td>\n",
              "      <td>3.48000</td>\n",
              "      <td>3.600000</td>\n",
              "      <td>4.49000</td>\n",
              "    </tr>\n",
              "    <tr>\n",
              "      <th>Al</th>\n",
              "      <td>214.0</td>\n",
              "      <td>1.444907</td>\n",
              "      <td>0.499270</td>\n",
              "      <td>0.29000</td>\n",
              "      <td>1.190000</td>\n",
              "      <td>1.36000</td>\n",
              "      <td>1.630000</td>\n",
              "      <td>3.50000</td>\n",
              "    </tr>\n",
              "    <tr>\n",
              "      <th>Si</th>\n",
              "      <td>214.0</td>\n",
              "      <td>72.650935</td>\n",
              "      <td>0.774546</td>\n",
              "      <td>69.81000</td>\n",
              "      <td>72.280000</td>\n",
              "      <td>72.79000</td>\n",
              "      <td>73.087500</td>\n",
              "      <td>75.41000</td>\n",
              "    </tr>\n",
              "    <tr>\n",
              "      <th>K</th>\n",
              "      <td>214.0</td>\n",
              "      <td>0.497056</td>\n",
              "      <td>0.652192</td>\n",
              "      <td>0.00000</td>\n",
              "      <td>0.122500</td>\n",
              "      <td>0.55500</td>\n",
              "      <td>0.610000</td>\n",
              "      <td>6.21000</td>\n",
              "    </tr>\n",
              "    <tr>\n",
              "      <th>Ca</th>\n",
              "      <td>214.0</td>\n",
              "      <td>8.956963</td>\n",
              "      <td>1.423153</td>\n",
              "      <td>5.43000</td>\n",
              "      <td>8.240000</td>\n",
              "      <td>8.60000</td>\n",
              "      <td>9.172500</td>\n",
              "      <td>16.19000</td>\n",
              "    </tr>\n",
              "    <tr>\n",
              "      <th>Ba</th>\n",
              "      <td>214.0</td>\n",
              "      <td>0.175047</td>\n",
              "      <td>0.497219</td>\n",
              "      <td>0.00000</td>\n",
              "      <td>0.000000</td>\n",
              "      <td>0.00000</td>\n",
              "      <td>0.000000</td>\n",
              "      <td>3.15000</td>\n",
              "    </tr>\n",
              "    <tr>\n",
              "      <th>Fe</th>\n",
              "      <td>214.0</td>\n",
              "      <td>0.057009</td>\n",
              "      <td>0.097439</td>\n",
              "      <td>0.00000</td>\n",
              "      <td>0.000000</td>\n",
              "      <td>0.00000</td>\n",
              "      <td>0.100000</td>\n",
              "      <td>0.51000</td>\n",
              "    </tr>\n",
              "    <tr>\n",
              "      <th>Type</th>\n",
              "      <td>214.0</td>\n",
              "      <td>2.780374</td>\n",
              "      <td>2.103739</td>\n",
              "      <td>1.00000</td>\n",
              "      <td>1.000000</td>\n",
              "      <td>2.00000</td>\n",
              "      <td>3.000000</td>\n",
              "      <td>7.00000</td>\n",
              "    </tr>\n",
              "  </tbody>\n",
              "</table>\n",
              "</div>"
            ],
            "text/plain": [
              "      count       mean       std       min        25%       50%        75%  \\\n",
              "RI    214.0   1.518365  0.003037   1.51115   1.516522   1.51768   1.519157   \n",
              "Na    214.0  13.407850  0.816604  10.73000  12.907500  13.30000  13.825000   \n",
              "Mg    214.0   2.684533  1.442408   0.00000   2.115000   3.48000   3.600000   \n",
              "Al    214.0   1.444907  0.499270   0.29000   1.190000   1.36000   1.630000   \n",
              "Si    214.0  72.650935  0.774546  69.81000  72.280000  72.79000  73.087500   \n",
              "K     214.0   0.497056  0.652192   0.00000   0.122500   0.55500   0.610000   \n",
              "Ca    214.0   8.956963  1.423153   5.43000   8.240000   8.60000   9.172500   \n",
              "Ba    214.0   0.175047  0.497219   0.00000   0.000000   0.00000   0.000000   \n",
              "Fe    214.0   0.057009  0.097439   0.00000   0.000000   0.00000   0.100000   \n",
              "Type  214.0   2.780374  2.103739   1.00000   1.000000   2.00000   3.000000   \n",
              "\n",
              "           max  \n",
              "RI     1.53393  \n",
              "Na    17.38000  \n",
              "Mg     4.49000  \n",
              "Al     3.50000  \n",
              "Si    75.41000  \n",
              "K      6.21000  \n",
              "Ca    16.19000  \n",
              "Ba     3.15000  \n",
              "Fe     0.51000  \n",
              "Type   7.00000  "
            ]
          },
          "execution_count": 2,
          "metadata": {},
          "output_type": "execute_result"
        }
      ],
      "source": [
        "diabdata = pd.read_csv(\"glass.csv\")\n",
        "print(diabdata.shape)\n",
        "diabdata.describe().transpose()"
      ]
    },
    {
      "cell_type": "code",
      "execution_count": 3,
      "metadata": {
        "id": "4O6H01PWHISH"
      },
      "outputs": [
        {
          "data": {
            "text/html": [
              "<div>\n",
              "<style scoped>\n",
              "    .dataframe tbody tr th:only-of-type {\n",
              "        vertical-align: middle;\n",
              "    }\n",
              "\n",
              "    .dataframe tbody tr th {\n",
              "        vertical-align: top;\n",
              "    }\n",
              "\n",
              "    .dataframe thead th {\n",
              "        text-align: right;\n",
              "    }\n",
              "</style>\n",
              "<table border=\"1\" class=\"dataframe\">\n",
              "  <thead>\n",
              "    <tr style=\"text-align: right;\">\n",
              "      <th></th>\n",
              "      <th>count</th>\n",
              "      <th>mean</th>\n",
              "      <th>std</th>\n",
              "      <th>min</th>\n",
              "      <th>25%</th>\n",
              "      <th>50%</th>\n",
              "      <th>75%</th>\n",
              "      <th>max</th>\n",
              "    </tr>\n",
              "  </thead>\n",
              "  <tbody>\n",
              "    <tr>\n",
              "      <th>RI</th>\n",
              "      <td>214.0</td>\n",
              "      <td>0.989853</td>\n",
              "      <td>0.001980</td>\n",
              "      <td>0.985149</td>\n",
              "      <td>0.988652</td>\n",
              "      <td>0.989406</td>\n",
              "      <td>0.990370</td>\n",
              "      <td>1.0</td>\n",
              "    </tr>\n",
              "    <tr>\n",
              "      <th>Na</th>\n",
              "      <td>214.0</td>\n",
              "      <td>0.771453</td>\n",
              "      <td>0.046985</td>\n",
              "      <td>0.617376</td>\n",
              "      <td>0.742664</td>\n",
              "      <td>0.765247</td>\n",
              "      <td>0.795455</td>\n",
              "      <td>1.0</td>\n",
              "    </tr>\n",
              "    <tr>\n",
              "      <th>Mg</th>\n",
              "      <td>214.0</td>\n",
              "      <td>0.597891</td>\n",
              "      <td>0.321249</td>\n",
              "      <td>0.000000</td>\n",
              "      <td>0.471047</td>\n",
              "      <td>0.775056</td>\n",
              "      <td>0.801782</td>\n",
              "      <td>1.0</td>\n",
              "    </tr>\n",
              "    <tr>\n",
              "      <th>Al</th>\n",
              "      <td>214.0</td>\n",
              "      <td>0.412830</td>\n",
              "      <td>0.142648</td>\n",
              "      <td>0.082857</td>\n",
              "      <td>0.340000</td>\n",
              "      <td>0.388571</td>\n",
              "      <td>0.465714</td>\n",
              "      <td>1.0</td>\n",
              "    </tr>\n",
              "    <tr>\n",
              "      <th>Si</th>\n",
              "      <td>214.0</td>\n",
              "      <td>0.963412</td>\n",
              "      <td>0.010271</td>\n",
              "      <td>0.925739</td>\n",
              "      <td>0.958494</td>\n",
              "      <td>0.965257</td>\n",
              "      <td>0.969202</td>\n",
              "      <td>1.0</td>\n",
              "    </tr>\n",
              "    <tr>\n",
              "      <th>K</th>\n",
              "      <td>214.0</td>\n",
              "      <td>0.080041</td>\n",
              "      <td>0.105023</td>\n",
              "      <td>0.000000</td>\n",
              "      <td>0.019726</td>\n",
              "      <td>0.089372</td>\n",
              "      <td>0.098229</td>\n",
              "      <td>1.0</td>\n",
              "    </tr>\n",
              "    <tr>\n",
              "      <th>Ca</th>\n",
              "      <td>214.0</td>\n",
              "      <td>0.553240</td>\n",
              "      <td>0.087903</td>\n",
              "      <td>0.335392</td>\n",
              "      <td>0.508956</td>\n",
              "      <td>0.531192</td>\n",
              "      <td>0.566553</td>\n",
              "      <td>1.0</td>\n",
              "    </tr>\n",
              "    <tr>\n",
              "      <th>Ba</th>\n",
              "      <td>214.0</td>\n",
              "      <td>0.055570</td>\n",
              "      <td>0.157847</td>\n",
              "      <td>0.000000</td>\n",
              "      <td>0.000000</td>\n",
              "      <td>0.000000</td>\n",
              "      <td>0.000000</td>\n",
              "      <td>1.0</td>\n",
              "    </tr>\n",
              "    <tr>\n",
              "      <th>Fe</th>\n",
              "      <td>214.0</td>\n",
              "      <td>0.111783</td>\n",
              "      <td>0.191056</td>\n",
              "      <td>0.000000</td>\n",
              "      <td>0.000000</td>\n",
              "      <td>0.000000</td>\n",
              "      <td>0.196078</td>\n",
              "      <td>1.0</td>\n",
              "    </tr>\n",
              "    <tr>\n",
              "      <th>Type</th>\n",
              "      <td>214.0</td>\n",
              "      <td>2.780374</td>\n",
              "      <td>2.103739</td>\n",
              "      <td>1.000000</td>\n",
              "      <td>1.000000</td>\n",
              "      <td>2.000000</td>\n",
              "      <td>3.000000</td>\n",
              "      <td>7.0</td>\n",
              "    </tr>\n",
              "  </tbody>\n",
              "</table>\n",
              "</div>"
            ],
            "text/plain": [
              "      count      mean       std       min       25%       50%       75%  max\n",
              "RI    214.0  0.989853  0.001980  0.985149  0.988652  0.989406  0.990370  1.0\n",
              "Na    214.0  0.771453  0.046985  0.617376  0.742664  0.765247  0.795455  1.0\n",
              "Mg    214.0  0.597891  0.321249  0.000000  0.471047  0.775056  0.801782  1.0\n",
              "Al    214.0  0.412830  0.142648  0.082857  0.340000  0.388571  0.465714  1.0\n",
              "Si    214.0  0.963412  0.010271  0.925739  0.958494  0.965257  0.969202  1.0\n",
              "K     214.0  0.080041  0.105023  0.000000  0.019726  0.089372  0.098229  1.0\n",
              "Ca    214.0  0.553240  0.087903  0.335392  0.508956  0.531192  0.566553  1.0\n",
              "Ba    214.0  0.055570  0.157847  0.000000  0.000000  0.000000  0.000000  1.0\n",
              "Fe    214.0  0.111783  0.191056  0.000000  0.000000  0.000000  0.196078  1.0\n",
              "Type  214.0  2.780374  2.103739  1.000000  1.000000  2.000000  3.000000  7.0"
            ]
          },
          "execution_count": 3,
          "metadata": {},
          "output_type": "execute_result"
        }
      ],
      "source": [
        "## Create Arrays for features and response variables\n",
        "\n",
        "target_column = ['Type'] \n",
        "predictors = list(set(list(diabdata.columns))-set(target_column))\n",
        "diabdata[predictors] = diabdata[predictors]/diabdata[predictors].max()\n",
        "diabdata.describe().transpose()"
      ]
    },
    {
      "cell_type": "code",
      "execution_count": 4,
      "metadata": {
        "id": "HYIogfSOHhex"
      },
      "outputs": [
        {
          "name": "stdout",
          "output_type": "stream",
          "text": [
            "(149, 9)\n",
            "(65, 9)\n"
          ]
        }
      ],
      "source": [
        "## Creating Training and Test Datasets\n",
        "\n",
        "X = diabdata[predictors].values\n",
        "y = diabdata[target_column].values\n",
        "\n",
        "X_train, X_test, y_train, y_test = train_test_split(X, y, test_size=0.30, random_state=40)\n",
        "print(X_train.shape); print(X_test.shape)"
      ]
    },
    {
      "cell_type": "code",
      "execution_count": 5,
      "metadata": {
        "id": "gCEffBDNHzX_"
      },
      "outputs": [
        {
          "name": "stderr",
          "output_type": "stream",
          "text": [
            "c:\\Users\\Laxman\\AppData\\Local\\Programs\\Python\\Python310\\lib\\site-packages\\sklearn\\neural_network\\_multilayer_perceptron.py:1118: DataConversionWarning: A column-vector y was passed when a 1d array was expected. Please change the shape of y to (n_samples, ), for example using ravel().\n",
            "  y = column_or_1d(y, warn=True)\n",
            "c:\\Users\\Laxman\\AppData\\Local\\Programs\\Python\\Python310\\lib\\site-packages\\sklearn\\neural_network\\_multilayer_perceptron.py:702: ConvergenceWarning: Stochastic Optimizer: Maximum iterations (500) reached and the optimization hasn't converged yet.\n",
            "  warnings.warn(\n"
          ]
        }
      ],
      "source": [
        "## Building NN Model\n",
        "\n",
        "from sklearn.neural_network import MLPClassifier\n",
        "\n",
        "## activation : {‘identity’, ‘logistic’, ‘tanh’, ‘relu’}, default=’relu’\n",
        "## solver : {‘lbfgs’, ‘sgd’, ‘adam’}, default=’adam’\n",
        "\n",
        "mlp = MLPClassifier(hidden_layer_sizes=(8,8,8), activation='relu', solver='adam', max_iter=500) # Variations w.r.to parameters can be tried.\n",
        "mlp.fit(X_train,y_train)\n",
        "\n",
        "predict_train = mlp.predict(X_train)\n",
        "predict_test = mlp.predict(X_test)"
      ]
    },
    {
      "cell_type": "code",
      "execution_count": 6,
      "metadata": {
        "id": "7kOgAu-dIF4A"
      },
      "outputs": [
        {
          "name": "stdout",
          "output_type": "stream",
          "text": [
            "[[42  9  0  0  0  0]\n",
            " [17 33  0  0  0  1]\n",
            " [ 6  3  0  0  0  0]\n",
            " [ 0  6  0  0  0  4]\n",
            " [ 0  5  0  0  0  1]\n",
            " [ 1  0  0  0  0 21]]\n",
            "              precision    recall  f1-score   support\n",
            "\n",
            "           1       0.64      0.82      0.72        51\n",
            "           2       0.59      0.65      0.62        51\n",
            "           3       0.00      0.00      0.00         9\n",
            "           5       0.00      0.00      0.00        10\n",
            "           6       0.00      0.00      0.00         6\n",
            "           7       0.78      0.95      0.86        22\n",
            "\n",
            "    accuracy                           0.64       149\n",
            "   macro avg       0.33      0.40      0.37       149\n",
            "weighted avg       0.53      0.64      0.58       149\n",
            "\n"
          ]
        },
        {
          "name": "stderr",
          "output_type": "stream",
          "text": [
            "c:\\Users\\Laxman\\AppData\\Local\\Programs\\Python\\Python310\\lib\\site-packages\\sklearn\\metrics\\_classification.py:1334: UndefinedMetricWarning: Precision and F-score are ill-defined and being set to 0.0 in labels with no predicted samples. Use `zero_division` parameter to control this behavior.\n",
            "  _warn_prf(average, modifier, msg_start, len(result))\n",
            "c:\\Users\\Laxman\\AppData\\Local\\Programs\\Python\\Python310\\lib\\site-packages\\sklearn\\metrics\\_classification.py:1334: UndefinedMetricWarning: Precision and F-score are ill-defined and being set to 0.0 in labels with no predicted samples. Use `zero_division` parameter to control this behavior.\n",
            "  _warn_prf(average, modifier, msg_start, len(result))\n",
            "c:\\Users\\Laxman\\AppData\\Local\\Programs\\Python\\Python310\\lib\\site-packages\\sklearn\\metrics\\_classification.py:1334: UndefinedMetricWarning: Precision and F-score are ill-defined and being set to 0.0 in labels with no predicted samples. Use `zero_division` parameter to control this behavior.\n",
            "  _warn_prf(average, modifier, msg_start, len(result))\n"
          ]
        }
      ],
      "source": [
        "# Model with Training Data\n",
        "from sklearn.metrics import classification_report,confusion_matrix\n",
        "print(confusion_matrix(y_train,predict_train))\n",
        "print(classification_report(y_train,predict_train))"
      ]
    },
    {
      "cell_type": "code",
      "execution_count": 7,
      "metadata": {
        "id": "Y0Kt-JMPILGB"
      },
      "outputs": [
        {
          "name": "stdout",
          "output_type": "stream",
          "text": [
            "[[16  3  0  0  0  0]\n",
            " [10 15  0  0  0  0]\n",
            " [ 7  1  0  0  0  0]\n",
            " [ 0  2  0  0  0  1]\n",
            " [ 0  3  0  0  0  0]\n",
            " [ 0  1  0  0  0  6]]\n",
            "              precision    recall  f1-score   support\n",
            "\n",
            "           1       0.48      0.84      0.62        19\n",
            "           2       0.60      0.60      0.60        25\n",
            "           3       0.00      0.00      0.00         8\n",
            "           5       0.00      0.00      0.00         3\n",
            "           6       0.00      0.00      0.00         3\n",
            "           7       0.86      0.86      0.86         7\n",
            "\n",
            "    accuracy                           0.57        65\n",
            "   macro avg       0.32      0.38      0.35        65\n",
            "weighted avg       0.46      0.57      0.50        65\n",
            "\n"
          ]
        },
        {
          "name": "stderr",
          "output_type": "stream",
          "text": [
            "c:\\Users\\Laxman\\AppData\\Local\\Programs\\Python\\Python310\\lib\\site-packages\\sklearn\\metrics\\_classification.py:1334: UndefinedMetricWarning: Precision and F-score are ill-defined and being set to 0.0 in labels with no predicted samples. Use `zero_division` parameter to control this behavior.\n",
            "  _warn_prf(average, modifier, msg_start, len(result))\n",
            "c:\\Users\\Laxman\\AppData\\Local\\Programs\\Python\\Python310\\lib\\site-packages\\sklearn\\metrics\\_classification.py:1334: UndefinedMetricWarning: Precision and F-score are ill-defined and being set to 0.0 in labels with no predicted samples. Use `zero_division` parameter to control this behavior.\n",
            "  _warn_prf(average, modifier, msg_start, len(result))\n",
            "c:\\Users\\Laxman\\AppData\\Local\\Programs\\Python\\Python310\\lib\\site-packages\\sklearn\\metrics\\_classification.py:1334: UndefinedMetricWarning: Precision and F-score are ill-defined and being set to 0.0 in labels with no predicted samples. Use `zero_division` parameter to control this behavior.\n",
            "  _warn_prf(average, modifier, msg_start, len(result))\n"
          ]
        }
      ],
      "source": [
        "# Model's Performance with test data\n",
        "print(confusion_matrix(y_test,predict_test))\n",
        "print(classification_report(y_test,predict_test))"
      ]
    }
  ],
  "metadata": {
    "colab": {
      "collapsed_sections": [],
      "name": "19CSE305_Perceptron.ipynb",
      "private_outputs": true,
      "provenance": []
    },
    "kernelspec": {
      "display_name": "Python 3",
      "language": "python",
      "name": "python3"
    },
    "language_info": {
      "codemirror_mode": {
        "name": "ipython",
        "version": 3
      },
      "file_extension": ".py",
      "mimetype": "text/x-python",
      "name": "python",
      "nbconvert_exporter": "python",
      "pygments_lexer": "ipython3",
      "version": "3.10.1 (tags/v3.10.1:2cd268a, Dec  6 2021, 19:10:37) [MSC v.1929 64 bit (AMD64)]"
    },
    "vscode": {
      "interpreter": {
        "hash": "f3a32c69e7cb24e714e122151a826aadd9292f6f0bc9bc50d602b279d1b92579"
      }
    }
  },
  "nbformat": 4,
  "nbformat_minor": 0
}
