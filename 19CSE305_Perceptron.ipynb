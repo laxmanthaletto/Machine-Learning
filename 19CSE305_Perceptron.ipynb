{
  "nbformat": 4,
  "nbformat_minor": 0,
  "metadata": {
    "colab": {
      "name": "19CSE305_Perceptron.ipynb",
      "private_outputs": true,
      "provenance": [],
      "collapsed_sections": []
    },
    "kernelspec": {
      "name": "python3",
      "display_name": "Python 3"
    },
    "language_info": {
      "name": "python"
    }
  },
  "cells": [
    {
      "cell_type": "markdown",
      "metadata": {
        "id": "ZPSs2m7cdDTB"
      },
      "source": [
        "**Binary Classification using Perceptron**"
      ]
    },
    {
      "cell_type": "code",
      "metadata": {
        "id": "mb3nQpApdAzN"
      },
      "source": [
        "## Import required libraries\n",
        "\n",
        "import pandas as pd\n",
        "import numpy as np \n",
        "import matplotlib.pyplot as plt\n",
        "import sklearn\n",
        "\n",
        "from sklearn.neural_network import MLPClassifier\n",
        "from sklearn.model_selection import train_test_split"
      ],
      "execution_count": null,
      "outputs": []
    },
    {
      "cell_type": "code",
      "metadata": {
        "id": "ZTh8mfVgCi7A"
      },
      "source": [
        "diabdata = pd.read_csv(\"/content/drive/MyDrive/Datasets/diabetes.csv\")\n",
        "print(diabdata.shape)\n",
        "diabdata.describe().transpose()"
      ],
      "execution_count": null,
      "outputs": []
    },
    {
      "cell_type": "code",
      "metadata": {
        "id": "4O6H01PWHISH"
      },
      "source": [
        "## Create Arrays for features and response variables\n",
        "\n",
        "target_column = ['Outcome'] \n",
        "predictors = list(set(list(diabdata.columns))-set(target_column))\n",
        "diabdata[predictors] = diabdata[predictors]/diabdata[predictors].max()\n",
        "diabdata.describe().transpose()"
      ],
      "execution_count": null,
      "outputs": []
    },
    {
      "cell_type": "code",
      "metadata": {
        "id": "HYIogfSOHhex"
      },
      "source": [
        "## Creating Training and Test Datasets\n",
        "\n",
        "X = diabdata[predictors].values\n",
        "y = diabdata[target_column].values\n",
        "\n",
        "X_train, X_test, y_train, y_test = train_test_split(X, y, test_size=0.30, random_state=40)\n",
        "print(X_train.shape); print(X_test.shape)"
      ],
      "execution_count": null,
      "outputs": []
    },
    {
      "cell_type": "code",
      "metadata": {
        "id": "gCEffBDNHzX_"
      },
      "source": [
        "## Building NN Model\n",
        "\n",
        "from sklearn.neural_network import MLPClassifier\n",
        "\n",
        "## activation : {‘identity’, ‘logistic’, ‘tanh’, ‘relu’}, default=’relu’\n",
        "## solver : {‘lbfgs’, ‘sgd’, ‘adam’}, default=’adam’\n",
        "\n",
        "mlp = MLPClassifier(hidden_layer_sizes=(8,8,8), activation='relu', solver='adam', max_iter=500) # Variations w.r.to parameters can be tried.\n",
        "mlp.fit(X_train,y_train)\n",
        "\n",
        "predict_train = mlp.predict(X_train)\n",
        "predict_test = mlp.predict(X_test)"
      ],
      "execution_count": null,
      "outputs": []
    },
    {
      "cell_type": "code",
      "metadata": {
        "id": "7kOgAu-dIF4A"
      },
      "source": [
        "# Model with Training Data\n",
        "from sklearn.metrics import classification_report,confusion_matrix\n",
        "print(confusion_matrix(y_train,predict_train))\n",
        "print(classification_report(y_train,predict_train))"
      ],
      "execution_count": null,
      "outputs": []
    },
    {
      "cell_type": "code",
      "metadata": {
        "id": "Y0Kt-JMPILGB"
      },
      "source": [
        "# Model's Performance with test data\n",
        "print(confusion_matrix(y_test,predict_test))\n",
        "print(classification_report(y_test,predict_test))"
      ],
      "execution_count": null,
      "outputs": []
    }
  ]
}